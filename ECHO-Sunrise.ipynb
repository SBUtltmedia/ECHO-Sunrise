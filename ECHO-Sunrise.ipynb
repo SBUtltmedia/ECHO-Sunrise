{
 "cells": [
  {
   "cell_type": "markdown",
   "metadata": {},
   "source": [
    "|  Sunrise logo | ![EEW logo](https://github.com/edgi-govdata-archiving/EEW-Image-Assets/blob/master/Jupyter%20instructions/eew.jpg?raw=true) | ![EDGI logo](https://github.com/edgi-govdata-archiving/EEW-Image-Assets/blob/master/Jupyter%20instructions/edgi.png?raw=true) |\n",
    "|---|---|---|\n",
    "\n",
    "#### This notebook is licensed under GPL 3.0. Please visit our Github repo for more information: https://github.com/edgi-govdata-archiving/ECHO-COVID19\n",
    "#### The notebook was collaboratively authored by the Environmental Data & Governance Initiative (EDGI) following our authorship protocol: https://docs.google.com/document/d/1CtDN5ZZ4Zv70fHiBTmWkDJ9mswEipX6eCYrwicP66Xw/\n",
    "#### For more information about this project, visit https://www.environmentalenforcementwatch.org/"
   ]
  },
  {
   "cell_type": "markdown",
   "metadata": {},
   "source": [
    "## How to Run\n",
    "* A \"cell\" in a Jupyter notebook is a block of code performing a set of actions making available or using specific data.  The notebook works by running one cell after another, as the notebook user selects offered options.\n",
    "* If you click on a gray **code** cell, a little “play button” arrow appears on the left. If you click the play button, it will run the code in that cell (“**running** a cell”). The button will animate. When the animation stops, the cell has finished running.\n",
    "![Where to click to run the cell](https://github.com/edgi-govdata-archiving/EEW-Image-Assets/blob/master/Jupyter%20instructions/pressplay.JPG?raw=true)\n",
    "* You may get a warning that the notebook was not authored by Google. We know, we authored them! It’s okay. Click “Run Anyway” to continue. \n",
    "![Error Message](https://github.com/edgi-govdata-archiving/EEW-Image-Assets/blob/master/Jupyter%20instructions/warning-message.JPG?raw=true)\n",
    "* **It is important to run cells in order because they depend on each other.**\n",
    "* Run all of the cells in a Notebook to make a complete report. Please feel free to look at and **learn about each result as you create it**!"
   ]
  },
  {
   "cell_type": "markdown",
   "metadata": {},
   "source": [
    "# **Let's begin!** \n",
    "These first few cells give us access to some external Python code we will need. Hover over the \"[ ]\" on the top left corner of the cell below and you should see a \"play\" button appear. Click on it to run the cell then move to the next one.\n",
    "### 1.  Bring in extra code"
   ]
  },
  {
   "cell_type": "code",
   "execution_count": null,
   "metadata": {},
   "outputs": [],
   "source": [
    "# Code stored in Github projects\n",
    "!git clone -b sunrise --single-branch https://github.com/ericnost/ECHO_modules.git &>/dev/null;\n",
    "!git clone -b add_geos https://github.com/edgi-govdata-archiving/ECHO-Geo.git &>/dev/null;\n",
    "!git clone -b split https://github.com/edgi-govdata-archiving/ECHO-Sunrise.git &>/dev/null; # This has the utilities file for mapping and make_data_sets.py\n",
    "\n",
    "# Import main code libraries\n",
    "%run ECHO_modules/DataSet.py\n",
    "%run ECHO-Sunrise/utilities.py\n",
    "import pandas as pd\n",
    "!pip install geopandas &>/dev/null;\n",
    "import geopandas\n",
    "import matplotlib.pyplot as plt\n",
    "import seaborn as sns\n",
    "%matplotlib inline\n",
    "import requests\n",
    "import csv\n",
    "import datetime\n",
    "import ipywidgets as widgets    "
   ]
  },
  {
   "cell_type": "markdown",
   "metadata": {},
   "source": [
    "### Load CD map and choose district"
   ]
  },
  {
   "cell_type": "code",
   "execution_count": null,
   "metadata": {},
   "outputs": [],
   "source": [
    "select_region_widget = widgets.Dropdown(\n",
    "    options=['1', '2', '3', '4', '5', '6', '7', '8', '9'],\n",
    "    style=style,\n",
    "    value='1',\n",
    "    description='Select a Congressional District:',\n",
    "    disabled=False\n",
    ")\n",
    "display( select_region_widget )\n",
    "\n",
    "# Read in and map geojson for the selected geography\n",
    "geo_json_data = geopandas.read_file(\"ECHO-Geo/ma_congressional_districts.geojson\")\n",
    "\n",
    "m = folium.Map(\n",
    "    #tiles='Mapbox Bright',\n",
    ")\n",
    "folium.GeoJson(\n",
    "    geo_json_data,\n",
    "    name = \"Congressional District\",\n",
    "    popup=folium.GeoJsonPopup(fields=[\"ids\"])\n",
    ").add_to(m)\n",
    "\n",
    "bounds = m.get_bounds()\n",
    "m.fit_bounds(bounds)\n",
    "\n",
    "m"
   ]
  },
  {
   "cell_type": "markdown",
   "metadata": {},
   "source": [
    "### 3. What facilities does EPA track in this District?\n",
    "This may take just a little bit of time to load - there may be thousands! The next two blocks of code will load in the data and give you a preview of it."
   ]
  },
  {
   "cell_type": "code",
   "execution_count": null,
   "metadata": {},
   "outputs": [],
   "source": [
    "echo_data_sql = \"select * from ECHO_EXPORTER where FAC_STATE = 'MA' and FAC_ACTIVE_FLAG='Y' and FAC_DERIVED_CD113='\"+select_region_widget.value+\"'\"\n",
    "print(echo_data_sql)\n",
    "try:\n",
    "    echo_data = get_data( echo_data_sql, 'REGISTRY_ID' )\n",
    "    num_facilities = echo_data.shape[0]\n",
    "    print(\"\\nThere are %s facilities in Massachussets Congressional District %s currently tracked in the ECHO database.\" %(num_facilities, select_region_widget.value))\n",
    "    echo_data\n",
    "except pd.errors.EmptyDataError:\n",
    "    print(\"\\nThere are no facilities in this region.\\n\")"
   ]
  },
  {
   "cell_type": "markdown",
   "metadata": {},
   "source": [
    "### 4.  Run this next cell to create to choose how you want to *zoom in* on the data: what program you want to focus on (Air, Water, Waste, or GHG).\n",
    "Here's where you can learn more about the different programs..."
   ]
  },
  {
   "cell_type": "code",
   "execution_count": null,
   "metadata": {},
   "outputs": [],
   "source": [
    "# Only list the data set if it has the correct flag set.\n",
    "%run make_data_sets.py #%run ECHO-Sunrise/make_data_sets.py\n",
    "data_sets=make_data_sets()\n",
    "\n",
    "data_set_choices = []\n",
    "for k, v in data_sets.items():\n",
    "    if ( v.has_echo_flag( echo_data ) ):\n",
    "        data_set_choices.append( k )\n",
    "\n",
    "data_set_widget=widgets.Dropdown(\n",
    "    options=list(data_set_choices),\n",
    "    description='Data sets:',\n",
    "    disabled=False,\n",
    "    value='Greenhouse Gases'\n",
    ") \n",
    "display(data_set_widget)"
   ]
  },
  {
   "cell_type": "markdown",
   "metadata": {},
   "source": [
    "### 5. Here are all the facilities \n",
    "First, let's get all the data from the database. And map. And barchart"
   ]
  },
  {
   "cell_type": "code",
   "execution_count": null,
   "metadata": {},
   "outputs": [],
   "source": [
    "program = data_sets[ data_set_widget.value ]\n",
    "program_data = None\n",
    "\n",
    "my_prog_data, bars, stacked = get_program_data(echo_data, program, program_data)\n",
    "\n",
    "ax = bars.plot(kind='bar', stacked=stacked, title = program.name + \": Congressional District \"+select_region_widget.value, figsize=(20, 10), fontsize=16)\n",
    "ax.set_xlabel( 'Reporting Year' )\n",
    "ax.set_ylabel( program.name )\n",
    "ax    \n",
    "\n",
    "map_of_facilities = mapper_marker(my_prog_data)\n",
    "map_of_facilities"
   ]
  },
  {
   "cell_type": "markdown",
   "metadata": {},
   "source": [
    "### 7. Now we bring the geographic data and the facility data together."
   ]
  },
  {
   "cell_type": "code",
   "execution_count": null,
   "metadata": {},
   "outputs": [],
   "source": [
    "# Make a geodataframe out of the facilities data   \n",
    "gdf = geopandas.GeoDataFrame(\n",
    "    my_prog_data, crs= \"EPSG:4326\", geometry=geopandas.points_from_xy(my_prog_data[\"FAC_LONG\"], my_prog_data[\"FAC_LAT\"]))\n",
    "gdf.to_csv(\"full_program_data-\"+program.name+\"-\"+g+\".csv\")\n",
    "\n",
    "cmap = geo_json_data.loc[(geo_json_data[\"ids\"] == select_region_widget.value)] #where ids match\n",
    "\n",
    "# get geo and attribute data column names\n",
    "geo_column = {\"congressional_districts\": \"ids\"}\n",
    "geo = \"congressional_districts\"\n",
    "g = geo_column[geo]\n",
    "a = program.agg_col\n",
    "\n",
    "ranked = my_prog_data.set_index(\"Index\")\n",
    "ranked['quantile'] = pd.qcut(ranked[a], 5, labels=False, duplicates=\"drop\")\n",
    "ranked = ranked.sort_values(by=a, ascending=False)\n",
    "ranked.to_csv(\"facilities_ranked-\"+program.name+\".csv\")\n",
    "\n",
    "sns.set(style='whitegrid')\n",
    "plt.figure(figsize=(10,6))\n",
    "unit = ranked[0:19][\"FAC_NAME\"] # First 20 rows \n",
    "values = ranked[0:19][a] # First 20 rows\n",
    "sns.barplot(values, unit, order=list(unit), orient=\"h\") \n",
    "\n",
    "plt.title('Top 20 facilities in Massachusetts Congressional District %s from 2010-2018' %(select_region_widget.value))\n",
    "plt.xlabel(program.name)\n",
    "\n",
    "plt.show()\n",
    "\n",
    "mp = mapper_area(ranked, cmap, g, a)\n",
    "mp"
   ]
  },
  {
   "cell_type": "code",
   "execution_count": null,
   "metadata": {},
   "outputs": [],
   "source": []
  }
 ],
 "metadata": {
  "kernelspec": {
   "display_name": "Python 3",
   "language": "python",
   "name": "python3"
  },
  "language_info": {
   "codemirror_mode": {
    "name": "ipython",
    "version": 3
   },
   "file_extension": ".py",
   "mimetype": "text/x-python",
   "name": "python",
   "nbconvert_exporter": "python",
   "pygments_lexer": "ipython3",
   "version": "3.7.2"
  }
 },
 "nbformat": 4,
 "nbformat_minor": 2
}
