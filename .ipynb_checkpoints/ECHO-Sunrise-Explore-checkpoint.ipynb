{
 "cells": [
  {
   "cell_type": "markdown",
   "metadata": {},
   "source": [
    "|  Sunrise logo | ![EEW logo](https://github.com/edgi-govdata-archiving/EEW-Image-Assets/blob/master/Jupyter%20instructions/eew.jpg?raw=true) | ![EDGI logo](https://github.com/edgi-govdata-archiving/EEW-Image-Assets/blob/master/Jupyter%20instructions/edgi.png?raw=true) |\n",
    "|---|---|---|\n",
    "\n",
    "#### This notebook is licensed under GPL 3.0. Please visit our Github repo for more information: https://github.com/edgi-govdata-archiving/ECHO-COVID19\n",
    "#### The notebook was collaboratively authored by the Environmental Data & Governance Initiative (EDGI) following our authorship protocol: https://docs.google.com/document/d/1CtDN5ZZ4Zv70fHiBTmWkDJ9mswEipX6eCYrwicP66Xw/\n",
    "#### For more information about this project, visit https://www.environmentalenforcementwatch.org/"
   ]
  },
  {
   "cell_type": "markdown",
   "metadata": {},
   "source": [
    "## How to Run\n",
    "* A \"cell\" in a Jupyter notebook is a block of code performing a set of actions that make available or use specific data. The notebook works by running one cell after another as you, the notebook user, selects offered options.\n",
    "* If you click on a gray **code** cell, a little “play button” arrow appears on the left. If you click the play button, it will run the code in that cell (“**running** a cell”). The button will animate. When the animation stops, the cell has finished running.\n",
    "![Where to click to run the cell](https://github.com/edgi-govdata-archiving/EEW-Image-Assets/blob/master/Jupyter%20instructions/pressplay.JPG?raw=true)\n",
    "* You may get a warning that the notebook was not authored by Google. We know, we authored them! It’s okay. Click “Run Anyway” to continue. \n",
    "![Error Message](https://github.com/edgi-govdata-archiving/EEW-Image-Assets/blob/master/Jupyter%20instructions/warning-message.JPG?raw=true)\n",
    "* You may also get a warning that the \"runtime\" has restarted, after you run the second cell. That's to be expected, carry on!\n",
    "![Error Message](https://github.com/edgi-govdata-archiving/EEW-Image-Assets/blob/master/Jupyter%20instructions/restart.png?raw=true)\n",
    "* **It is important to run cells in order because they depend on each other.**\n",
    "* Run all of the cells in a Notebook to make a complete report. Please feel free to look at and **learn about each result as you create it**!"
   ]
  },
  {
   "cell_type": "markdown",
   "metadata": {},
   "source": [
    "# **Let's begin!** \n",
    "These first few cells give us access to external Python code we will need. Hover over the \"[ ]\" on the top left corner of the cell below and you should see a \"play\" button appear. Click on it to run the cell then move to the next one.\n",
    "### 1.  Bring in extra code"
   ]
  },
  {
   "cell_type": "code",
   "execution_count": null,
   "metadata": {},
   "outputs": [],
   "source": [
    "# Code stored in Github projects\n",
    "!git clone -b program-specific-info --single-branch https://github.com/ericnost/ECHO_modules.git &>/dev/null;\n",
    "!git clone -b add_geos https://github.com/edgi-govdata-archiving/ECHO-Geo.git &>/dev/null;\n",
    "!git clone -b split https://github.com/edgi-govdata-archiving/ECHO-Sunrise.git &>/dev/null; # This has the utilities file for mapping and make_data_sets.py"
   ]
  },
  {
   "cell_type": "markdown",
   "metadata": {},
   "source": [
    "After you run the following cell, you may see an error message. That's to be expected! You can dismiss it and proceed to the third cell here (\"_# Import main code libraries_\")."
   ]
  },
  {
   "cell_type": "code",
   "execution_count": null,
   "metadata": {},
   "outputs": [],
   "source": [
    "# Import geospatial code libraries\n",
    "import os\n",
    "def restart_runtime():\n",
    "  os.kill(os.getpid(), 9) # https://stackoverflow.com/questions/52678841/google-colab-how-to-restart-runtime-using-code\n",
    "!apt update  &>/dev/null;\n",
    "!apt install gdal-bin python-gdal python3-gdal  &>/dev/null;\n",
    "!apt install python3-rtree  &>/dev/null;\n",
    "restart_runtime() # Necessary to install the above ^^^ https://stackoverflow.com/questions/57831187/need-to-restart-runtime-before-import-an-installed-package-in-colab"
   ]
  },
  {
   "cell_type": "code",
   "execution_count": null,
   "metadata": {},
   "outputs": [],
   "source": [
    "# Import main code libraries\n",
    "%run ECHO_modules/DataSet.py\n",
    "%run ECHO-Sunrise/utilities.py\n",
    "import pandas as pd\n",
    "!pip install geopandas &>/dev/null;\n",
    "import geopandas\n",
    "import rtree\n",
    "import matplotlib.pyplot as plt\n",
    "import seaborn as sns\n",
    "%matplotlib inline\n",
    "import requests\n",
    "import csv\n",
    "import datetime\n",
    "import ipywidgets as widgets"
   ]
  },
  {
   "cell_type": "markdown",
   "metadata": {},
   "source": [
    "### 2. Which facilities does EPA track in Mass?\n",
    "This may take just a little bit of time to load - there are thousands! The next cell will load in the data and give you a preview of it."
   ]
  },
  {
   "cell_type": "code",
   "execution_count": null,
   "metadata": {},
   "outputs": [],
   "source": [
    "echo_data_sql = \"select * from ECHO_EXPORTER where FAC_STATE = 'MA' and FAC_ACTIVE_FLAG='Y'\"\n",
    "try:\n",
    "    echo_data = get_data( echo_data_sql, 'REGISTRY_ID' )\n",
    "    num_facilities = echo_data.shape[0]\n",
    "    print(\"\\nThere are %s facilities in Massachussets currently tracked in the ECHO database.\" %(num_facilities))\n",
    "    print(echo_data)\n",
    "except pd.errors.EmptyDataError:\n",
    "    print(\"\\nThere are no facilities in this region.\\n\")"
   ]
  },
  {
   "cell_type": "markdown",
   "metadata": {},
   "source": [
    "### 3.  Run this next cell to choose how you want to *zoom in* on the data.\n",
    "What specific programs do you want to look at and do you want to view this information by county, congressional district, state house district, watershed, or zip code?"
   ]
  },
  {
   "cell_type": "code",
   "execution_count": null,
   "metadata": {},
   "outputs": [],
   "source": [
    "# Only list the data set if it has the correct flag set.\n",
    "%run ECHO-Sunrise/make_data_sets.py\n",
    "data_sets=make_data_sets()\n",
    "\n",
    "data_set_choices = []\n",
    "for k, v in data_sets.items():\n",
    "    if ( v.has_echo_flag( echo_data ) ):\n",
    "        data_set_choices.append( k )\n",
    "\n",
    "data_set_widget=widgets.Dropdown(\n",
    "    options=list(data_set_choices),\n",
    "    description='Data sets:',\n",
    "    disabled=False,\n",
    "    value='Greenhouse Gases'\n",
    ") \n",
    "display(data_set_widget)\n",
    "\n",
    "# The different possible geographies for analysis\n",
    "region_field = { \n",
    "    'Congressional District': { \"field\": \"congressional_districts\" },\n",
    "    'County': { \"field\": \"county\" },\n",
    "    'State Districts': { \"field\": \"state_house_districts\" }, \n",
    "    'Town': {\"field\": \"town\"},\n",
    "    'Watershed': {\"field\": \"watersheds\"},\n",
    "    'Zip Code': { \"field\": \"zip_code\" },\n",
    "}\n",
    "\n",
    "style = {'description_width': 'initial'}\n",
    "select_region_widget = widgets.Dropdown(\n",
    "    options=region_field.keys(),\n",
    "    style=style,\n",
    "    value='Congressional District',\n",
    "    description='Region of interest:',\n",
    "    disabled=False\n",
    ")\n",
    "display( select_region_widget )"
   ]
  },
  {
   "cell_type": "markdown",
   "metadata": {},
   "source": [
    "### 4. Here are all the facilities in this program\n",
    "This may take some time because we're looking at all records under this program for all facilities across the state!\n",
    "\n",
    "We'll get all the data from the database and map where these facilities are:"
   ]
  },
  {
   "cell_type": "code",
   "execution_count": null,
   "metadata": {},
   "outputs": [],
   "source": [
    "program = data_sets[ data_set_widget.value ]\n",
    "program_data = None\n",
    "\n",
    "my_prog_data, bars = get_program_data(echo_data, program, program_data)\n",
    "map_of_facilities = mapper_marker(my_prog_data)\n",
    "map_of_facilities"
   ]
  },
  {
   "cell_type": "markdown",
   "metadata": {},
   "source": [
    "Next, let's create a barchart to show trends over time (2010 - 2018):"
   ]
  },
  {
   "cell_type": "code",
   "execution_count": null,
   "metadata": {},
   "outputs": [],
   "source": [
    "ax = bars.plot(kind='bar', title = program.name, figsize=(20, 10), fontsize=16)\n",
    "ax.set_xlabel( 'Reporting Year' )\n",
    "ax.set_ylabel( program.name )\n",
    "ax    "
   ]
  },
  {
   "cell_type": "markdown",
   "metadata": {},
   "source": [
    "### 5. Now we bring the geographic data and the facility data together. First, let's rank each geography."
   ]
  },
  {
   "cell_type": "code",
   "execution_count": null,
   "metadata": {},
   "outputs": [],
   "source": [
    "# Read in and map geojson for the selected geography\n",
    "geo = region_field[select_region_widget.value][\"field\"].lower()\n",
    "geo_json_data = geopandas.read_file(\"ECHO-Geo/ma_\"+geo+\".geojson\")\n",
    "\n",
    "# Get rid of any null geographies\n",
    "for geom in geo_json_data.iterrows():\n",
    "    if(geom[1][\"geometry\"]==None):\n",
    "        geo_json_data=geo_json_data.drop(geom[0])\n",
    "        \n",
    "# Make a geodataframe out of the facilities data   \n",
    "gdf = geopandas.GeoDataFrame(\n",
    "    my_prog_data, crs= \"EPSG:4326\", geometry=geopandas.points_from_xy(my_prog_data[\"FAC_LONG\"], my_prog_data[\"FAC_LAT\"]))\n",
    "\n",
    "# Join the facilities and the counties, towns, etc. - whatever the chosen geography is\n",
    "join = geopandas.sjoin(gdf, geo_json_data, how=\"inner\", op='intersects')\n",
    "\n",
    "# get geo and attribute data column names\n",
    "geo_column = {\"county\": \"COUNTY\", \"state_house_districts\": \"REP_DIST\", \"town\": \"town\",\"zip_code\": \"geoid10\",\"watersheds\": \"huc12\",\"congressional_districts\": \"ids\"}\n",
    "g = geo_column[geo]\n",
    "a = program.agg_col\n",
    "\n",
    "join.to_csv(\"full_program_data-\"+program.name+\"-\"+g+\".csv\")\n",
    "\n",
    "data = join.groupby(join[g])[[a]].agg(\"sum\")\n",
    "data = data.sort_values(by=a, ascending=False)\n",
    "data.to_csv(\"geos_ranked-\"+program.name+\"-\"+g+\".csv\")\n",
    "\n",
    "sns.set(style='whitegrid')\n",
    "plt.figure(figsize=(10,6))\n",
    "unit = data[0:19].index # First 20 rows \n",
    "values = data[0:19][a] # First 20 rows\n",
    "sns.barplot(values, unit, order=list(unit), orient=\"h\") \n",
    "\n",
    "plt.title('Top 20 %s in Massachusetts from 2010-2018' %(geo))\n",
    "plt.xlabel(program.name)\n",
    "\n",
    "plt.show()"
   ]
  },
  {
   "cell_type": "markdown",
   "metadata": {},
   "source": [
    "### 6. Now, let's map it!\n",
    "Ares shaded grey are those where there was no data - either becuase there were no emissions, violations, etc. or because there was nothing we could pull from ECHO at this time."
   ]
  },
  {
   "cell_type": "code",
   "execution_count": null,
   "metadata": {},
   "outputs": [],
   "source": [
    "data.reset_index(inplace=True)\n",
    "att_data = data.rename(columns={g: \"geo\", a: \"value\"}) \n",
    "\n",
    "ranked = my_prog_data.set_index(\"Index\")\n",
    "ranked.sort_values(by=a, ascending=False)\n",
    "ranked.to_csv(\"facilities_ranked-\"+program.name+\".csv\")\n",
    "ranked['quantile'] = pd.qcut(ranked[a], 4, labels=False, duplicates=\"drop\")\n",
    "\n",
    "mp = mapper_area(ranked, geo_json_data, att_data, g, a)\n",
    "mp"
   ]
  },
  {
   "cell_type": "code",
   "execution_count": null,
   "metadata": {},
   "outputs": [],
   "source": []
  }
 ],
 "metadata": {
  "kernelspec": {
   "display_name": "Python 3",
   "language": "python",
   "name": "python3"
  },
  "language_info": {
   "codemirror_mode": {
    "name": "ipython",
    "version": 3
   },
   "file_extension": ".py",
   "mimetype": "text/x-python",
   "name": "python",
   "nbconvert_exporter": "python",
   "pygments_lexer": "ipython3",
   "version": "3.7.2"
  }
 },
 "nbformat": 4,
 "nbformat_minor": 2
}
